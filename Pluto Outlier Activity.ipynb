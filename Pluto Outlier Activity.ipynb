{
 "cells": [
  {
   "cell_type": "markdown",
   "metadata": {},
   "source": [
    "### Name: Sandy Spicer"
   ]
  },
  {
   "cell_type": "markdown",
   "metadata": {},
   "source": [
    "# Pluto Outlier Activity"
   ]
  },
  {
   "cell_type": "markdown",
   "metadata": {},
   "source": [
    "Using planetary data from Appendix 4 (pg A-10), show that Pluto is an outlier when compared to the other eight planets.  You should make several graphs to support your argument.  Explain your results in terms of the nebular theory and the new IAU definition of a planet."
   ]
  },
  {
   "cell_type": "markdown",
   "metadata": {},
   "source": [
    "### What is nebular theory?"
   ]
  },
  {
   "cell_type": "markdown",
   "metadata": {},
   "source": [
    "Although nebular theory is still a theoretical model, it is the most widely accepted scientific explanation of how stars came to emerge from the cosmos.\n",
    "\n",
    "It was first developed in the 18th century by Emanuel Swedenborg, Immanuel Kant, and Pierre-Simon Laplace. Kant and Laplace argued that a rotatin cloud of interstellar gas (nebula) gradually collapsed and flattened to form a disk with the Sun at its center. Surrounding the Sun were rings of material from which the planets formed.\n",
    "\n",
    "According to this model, our solar system was formed about 4.5 billion years ago when a small part of a giant molecular cloud experienced a gravitational collapse. The majority of the of the collapsing mass collected in the center forming the Sun while the rest flattened into a protoplanetary disk, out of which the planets, moons, asteroids, and other small Solar System bodies formed. "
   ]
  },
  {
   "cell_type": "markdown",
   "metadata": {},
   "source": [
    "### What is the IAU definition of a planet?"
   ]
  },
  {
   "cell_type": "markdown",
   "metadata": {},
   "source": [
    "* 1) A planet is a celestial body that\n",
    "    * is in orbit around the Sun\n",
    "    * has sufficient mass for its self-gravity to overcome rigid body forces so that it assumes a hydrostatic equilibrium (nearly round) shape, and\n",
    "    * has cleared the neighborhood around its orbit.\n",
    "* 2) A \"dwarf planet\" is a celestial body that\n",
    "    * is in orbit around the Sun,\n",
    "    * has sufficient mass for its self-gravity to overcome rigid body forces so that it assumes a hydrostatic equilibrium (nearly round) shape,\n",
    "    * has not cleared the neighborhood around its orbit, and\n",
    "    * is not a satellite.\n",
    "* 3) All other objects, except satellites, orbiting the Sun shall be referred to collectively as \"Small Solar System Bodies\". "
   ]
  },
  {
   "cell_type": "markdown",
   "metadata": {},
   "source": [
    "### Pluto does orbit the sun so it passes the first test"
   ]
  },
  {
   "cell_type": "markdown",
   "metadata": {},
   "source": [
    "There is no precise point at which an object can be said to have reached hydrostatic equilibrium\n",
    "\n",
    "There is no gap between round and nonround shapes so it is difficult to distinguish when a planet isn't round. Additionally, the point at which an object's mass compresses it into an ellipsoid varies depending on the chemical makeup of the object."
   ]
  },
  {
   "cell_type": "markdown",
   "metadata": {},
   "source": [
    "### Most scientists agree that Pluto is in hydrostatic equilibrium, therefore it passes the second test."
   ]
  },
  {
   "cell_type": "markdown",
   "metadata": {},
   "source": [
    "Pluto fails the final part of the planet test, mostly because it isn't the most dominant object in its orbit around the sun. Pluto's \"moon,\" Charon is also fairly big, compared to Pluto, about half its size. Pluto's orbit contains a lot of other objects, so it hasn't cleared away any other objects in its path. If you compare Pluto to any other planet in our solar system, it is an outlier. No other planet has a moon nearly half of the size of the planet it orbits."
   ]
  },
  {
   "cell_type": "markdown",
   "metadata": {},
   "source": [
    "### Pluto has not cleared the neighborhood, therefore it is not classified as a planet\n",
    "***“Cleared the neighborhood” means that the “planet” has to be the dominant gravitational body in their orbit around the sun. This means that the “planet” has to cruise its orbit while consuming or slinging away smaller objects in its orbital path***"
   ]
  },
  {
   "cell_type": "code",
   "execution_count": 32,
   "metadata": {
    "collapsed": false
   },
   "outputs": [
    {
     "data": {
      "text/plain": [
       "<matplotlib.text.Text at 0x10fdf7210>"
      ]
     },
     "execution_count": 32,
     "metadata": {},
     "output_type": "execute_result"
    },
    {
     "data": {
      "image/png": "[encoded data removed]",
      "text/plain": [
       "<matplotlib.figure.Figure at 0x10f8361d0>"
      ]
     },
     "metadata": {},
     "output_type": "display_data"
    }
   ],
   "source": [
    "import numpy as np\n",
    "import matplotlib.pyplot as plt\n",
    "import matplotlib.pyplot as plt; plt.rcdefaults()\n",
    "%matplotlib inline\n",
    " \n",
    "planets = ('Mercury','Venus','Earth','Mars','Ceres','Jupiter','Saturn','Uranus','Neptune','Pluto')\n",
    "num_planets = np.arange(len(planets))\n",
    "equatorial_radius = [2440,6052,6378,3396,487.3,71492,60268,25559,24764,1195]\n",
    " \n",
    "plt.bar(num_planets, equatorial_radius)\n",
    "plt.xticks(e_radius,planets,fontsize=8)\n",
    "plt.ylabel('Equatorial Radius (km)')\n",
    "plt.title('Planets vs. Equatorial Radius')"
   ]
  },
  {
   "cell_type": "markdown",
   "metadata": {},
   "source": [
    "Pluto is clearly an outlier because its equatorial radius is closest to that of Ceres, which is classified as a dwarf planet."
   ]
  },
  {
   "cell_type": "code",
   "execution_count": 40,
   "metadata": {
    "collapsed": false
   },
   "outputs": [
    {
     "data": {
      "text/plain": [
       "<matplotlib.text.Text at 0x1104b8150>"
      ]
     },
     "execution_count": 40,
     "metadata": {},
     "output_type": "execute_result"
    },
    {
     "data": {
      "image/png": "[encoded data removed]",
      "text/plain": [
       "<matplotlib.figure.Figure at 0x110527a50>"
      ]
     },
     "metadata": {},
     "output_type": "display_data"
    }
   ],
   "source": [
    "planets = ('Mercury','Venus','Earth','Mars','Ceres','Jupiter','Saturn','Uranus','Neptune','Pluto')\n",
    "num_planets = np.arange(len(planets))\n",
    "equatorial_surface_gravity = [0.378,0.907,1.000,0.377,0.28,2.528,1.065,0.887,1.14,0.083]\n",
    " \n",
    "plt.bar(num_planets, equatorial_surface_gravity)\n",
    "plt.xticks(num_planets,planets,fontsize=8)\n",
    "plt.ylabel('Equatorial Surface Gravity Relative to Earth (m/s^2)')\n",
    "plt.title('Planets vs. Equatorial Surface Gravity')"
   ]
  },
  {
   "cell_type": "markdown",
   "metadata": {},
   "source": [
    "Pluto has a significantly smaller equatorial surface gravity relative to Earth compared to all of the other planets. The planet that comes the closest to Pluto is Venus at 0.907 m/s^2 while Pluto is 0.083 m/s^2."
   ]
  },
  {
   "cell_type": "code",
   "execution_count": 53,
   "metadata": {
    "collapsed": false
   },
   "outputs": [
    {
     "data": {
      "text/plain": [
       "<matplotlib.text.Text at 0x1119243d0>"
      ]
     },
     "execution_count": 53,
     "metadata": {},
     "output_type": "execute_result"
    },
    {
     "data": {
      "image/png": "[encoded data removed]",
      "text/plain": [
       "<matplotlib.figure.Figure at 0x111ab7790>"
      ]
     },
     "metadata": {},
     "output_type": "display_data"
    }
   ],
   "source": [
    "terrestrial_planets = ('Mercury','Venus','Earth','Mars','Ceres','Pluto')\n",
    "number_planets = np.arange(len(terrestrial_planets))\n",
    "mass = [3.3e23,4.87e24,5.97e24,6.42e23,9.47e20,1.25e22]\n",
    " \n",
    "plt.bar(number_planets, mass)\n",
    "plt.xticks(number_planets,terrestrial_planets,fontsize=8)\n",
    "plt.ylabel('Mass (kg)')\n",
    "plt.title('Planets vs. Mass')"
   ]
  },
  {
   "cell_type": "markdown",
   "metadata": {},
   "source": [
    "When you compare Pluto's mass in kg to the rest of the terrestrial planets in our solar system, it is clearly an outlier. It's closest in mass to Mercury, which is actually 26.4 times massive than Pluto."
   ]
  }
 ],
 "metadata": {
  "kernelspec": {
   "display_name": "Python 2",
   "language": "python",
   "name": "python2"
  },
  "language_info": {
   "codemirror_mode": {
    "name": "ipython",
    "version": 2
   },
   "file_extension": ".py",
   "mimetype": "text/x-python",
   "name": "python",
   "nbconvert_exporter": "python",
   "pygments_lexer": "ipython2",
   "version": "2.7.11"
  }
 },
 "nbformat": 4,
 "nbformat_minor": 0
}
