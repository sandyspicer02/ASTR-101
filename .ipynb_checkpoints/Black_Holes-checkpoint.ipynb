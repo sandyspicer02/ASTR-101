{
 "cells": [
  {
   "cell_type": "markdown",
   "metadata": {},
   "source": [
    "# Black Hole Test"
   ]
  },
  {
   "cell_type": "markdown",
   "metadata": {},
   "source": [
    "* Calculate the volume of black hole that has mass of the sun\n",
    "* Calculate the density of 10 million solar mass black hole"
   ]
  },
  {
   "cell_type": "markdown",
   "metadata": {},
   "source": [
    "Volume of Sphere:\n",
    "$$ V= \\frac{4}{3} \\pi r^3$$"
   ]
  },
  {
   "cell_type": "markdown",
   "metadata": {},
   "source": [
    "Schwarzschild Radius:\n",
    "\n",
    "$$R = \\frac{2GM}{c^2}$$"
   ]
  },
  {
   "cell_type": "markdown",
   "metadata": {},
   "source": [
    "Density:\n",
    "$$ \\rho = \\frac{M}{V}$$"
   ]
  },
  {
   "cell_type": "code",
   "execution_count": 1,
   "metadata": {
    "collapsed": false
   },
   "outputs": [
    {
     "name": "stdout",
     "output_type": "stream",
     "text": [
      "The schwarzschild radius of the sun would be 2.948140e+03 m.\n",
      "The volume of the black hole if it had the mass of the sun would be 8.049969e+10 m^3.\n",
      "The density of a black hole with the mass of the sun would be 2.470817e+19 kg/m^3.\n"
     ]
    }
   ],
   "source": [
    "from math import pi\n",
    "\n",
    "def schwarzschild_radius(m):\n",
    "    G = 6.67e-11 # m^3 kg^-1 s^-2\n",
    "    c = 3e8 # m/s\n",
    "    r = (2*m*G)/c**2\n",
    "    return r\n",
    "\n",
    "def volume(r):\n",
    "    v = (4/3)*pi*r**3\n",
    "    return v\n",
    "\n",
    "def density(m,v):\n",
    "    d = m/v\n",
    "    return d\n",
    "    \n",
    "mass_of_sun = 1.989e30 # kg\n",
    "\n",
    "s_radius = schwarzschild_radius(mass_of_sun)\n",
    "print \"The schwarzschild radius of the sun would be %e m.\" % (s_radius)\n",
    "volume_of_black_hole = volume(s_radius)\n",
    "print \"The volume of the black hole if it had the mass of the sun would be %e m^3.\" %(volume_of_black_hole) \n",
    "density_of_black_hole = density(mass_of_sun,volume_of_black_hole)\n",
    "print \"The density of a black hole with the mass of the sun would be %e kg/m^3.\" %(density_of_black_hole)"
   ]
  },
  {
   "cell_type": "code",
   "execution_count": 3,
   "metadata": {
    "collapsed": false
   },
   "outputs": [
    {
     "name": "stdout",
     "output_type": "stream",
     "text": [
      "The mass of a 10 million solar mass black hole is 1.989000e+37 kg.\n",
      "The schwarzschild radius of a 10 million solar mass black hole is 2.948140e+10 m.\n",
      "The volume of a 10 million solar mass black hole is 8.049969e+31 m^3.\n",
      "The density of a 10 million solar mass black hole is 2.470817e+05 kg/m^3.\n"
     ]
    }
   ],
   "source": [
    "mass_of_smbh = mass_of_sun * 10e6\n",
    "print \"The mass of a 10 million solar mass black hole is %e kg.\" % (mass_of_smbh)\n",
    "sr_smbh = schwarzschild_radius(mass_of_smbh)\n",
    "print \"The schwarzschild radius of a 10 million solar mass black hole is %e m.\" % (sr_smbh)\n",
    "volume_of_smbh = volume(sr_smbh)\n",
    "print \"The volume of a 10 million solar mass black hole is %e m^3.\" % (volume_of_smbh)\n",
    "density_of_smbh = density(mass_of_smbh,volume_of_smbh)\n",
    "print \"The density of a 10 million solar mass black hole is %e kg/m^3.\" % (density_of_smbh)"
   ]
  },
  {
   "cell_type": "markdown",
   "metadata": {},
   "source": [
    "A 10 million times solar mass black hole has a significantly smaller density than a black hole with the mass of the sun. This doesn't appear to make sense at first because you would think that compressing a larger mass would make it more dense. However, density and volume are inversely related to each other. This means that when you increase the volume of your black hole, you are therefore decreasing the density of it. But you would think that the significant increase in mass of the black hole would overcompensate for this inversely proportional relationship.\n",
    "\n",
    "It turns out that the event horizon is directly related to mass. This has to do with the inverse relationship between volume and density. When you increase the size of a sphere, its volume increases dramatically. If you multiply the radius by 10, the volume goes up by a factor of 1000! Since D = M/V, you then have 1000 in your denominator, which is going to give you an extremely small density.\n",
    "\n",
    "\"A regular black hole — that is, one with three times the Sun’s mass — with have an event horizon radius of about 9 km. That means it has a huge density, about two quadrillion grams per cubic cm (2 x 1015). But double the mass, and the density drops by a factor of four. Put in 10 times the mass and the density drops by a factor of 100. A billion solar mass black hole (big, but we see them this big in galaxy centers) would drop that density by a factor of 1 x 1018. That would give it a density of roughly 1/1000 of a gram per cc… and that’s the density of air!\" - Phil Plait"
   ]
  },
  {
   "cell_type": "code",
   "execution_count": null,
   "metadata": {
    "collapsed": true
   },
   "outputs": [],
   "source": []
  }
 ],
 "metadata": {
  "kernelspec": {
   "display_name": "Python 2",
   "language": "python",
   "name": "python2"
  },
  "language_info": {
   "codemirror_mode": {
    "name": "ipython",
    "version": 2
   },
   "file_extension": ".py",
   "mimetype": "text/x-python",
   "name": "python",
   "nbconvert_exporter": "python",
   "pygments_lexer": "ipython2",
   "version": "2.7.11"
  }
 },
 "nbformat": 4,
 "nbformat_minor": 0
}
